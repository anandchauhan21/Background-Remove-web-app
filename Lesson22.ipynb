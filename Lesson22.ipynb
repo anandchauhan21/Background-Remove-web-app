{
  "nbformat": 4,
  "nbformat_minor": 0,
  "metadata": {
    "colab": {
      "provenance": [],
      "name": "Lesson22.ipynb",
      "include_colab_link": true
    },
    "kernelspec": {
      "name": "python3",
      "display_name": "Python 3"
    },
    "language_info": {
      "name": "python"
    }
  },
  "cells": [
    {
      "cell_type": "markdown",
      "metadata": {
        "id": "view-in-github",
        "colab_type": "text"
      },
      "source": [
        "<a href=\"https://colab.research.google.com/github/anandchauhan21/Background-Remove-web-app/blob/main/Lesson22.ipynb\" target=\"_parent\"><img src=\"https://colab.research.google.com/assets/colab-badge.svg\" alt=\"Open In Colab\"/></a>"
      ]
    },
    {
      "cell_type": "markdown",
      "source": [
        "# 📚 Lesson 22: Quick Sort and Merge Sort\n",
        "\n",
        "## 🎯 Objective:\n",
        "Learn and implement **Quick Sort** and **Merge Sort**, two efficient divide & conquer sorting algorithms.\n",
        "\n",
        "---\n",
        "\n",
        "## 🧠 Concepts:\n",
        "\n",
        "### 🔹 Quick Sort:\n",
        "- Picks a **pivot** and partitions the array into two halves:\n",
        "  - Left side: elements smaller than pivot\n",
        "  - Right side: elements greater than pivot\n",
        "- Recursively sorts both halves.\n",
        "\n",
        "### 🔹 Merge Sort:\n",
        "- Divides the array into halves until single elements remain.\n",
        "- Merges them back together in sorted order.\n",
        "\n",
        "---\n",
        "\n",
        "## ⏱️ Time Complexity:\n",
        "\n",
        "| Algorithm   | Best Case | Average Case | Worst Case | Space |\n",
        "|-------------|-----------|--------------|------------|-------|\n",
        "| Quick Sort  | O(n log n) | O(n log n)  | O(n²)      | O(log n) |\n",
        "| Merge Sort  | O(n log n) | O(n log n)  | O(n log n) | O(n)     |\n",
        "\n",
        "---\n",
        "\n",
        "## 📌 Key Points:\n",
        "- **Quick Sort** is generally faster in practice, but unstable.\n",
        "- **Merge Sort** guarantees O(n log n) and is stable but uses extra memory.\n"
      ],
      "metadata": {
        "id": "MsDZvBceX8tS"
      }
    },
    {
      "cell_type": "markdown",
      "source": [
        "## PYTHON"
      ],
      "metadata": {
        "id": "Kv2jS3uSY8o9"
      }
    },
    {
      "cell_type": "code",
      "source": [
        "# 🐍 Quick Sort (Python)\n",
        "def quick_sort(arr):\n",
        "    if len(arr) <= 1:\n",
        "        return arr\n",
        "    pivot = arr[len(arr)//2]\n",
        "    left = [x for x in arr if x < pivot]\n",
        "    middle = [x for x in arr if x == pivot]\n",
        "    right = [x for x in arr if x > pivot]\n",
        "    return quick_sort(left) + middle + quick_sort(right)\n",
        "\n",
        "# 🐍 Merge Sort (Python)\n",
        "def merge_sort(arr):\n",
        "    if len(arr) > 1:\n",
        "        mid = len(arr) // 2\n",
        "        L = arr[:mid]\n",
        "        R = arr[mid:]\n",
        "\n",
        "        merge_sort(L)\n",
        "        merge_sort(R)\n",
        "\n",
        "        i = j = k = 0\n",
        "        while i < len(L) and j < len(R):\n",
        "            if L[i] < R[j]:\n",
        "                arr[k] = L[i]\n",
        "                i += 1\n",
        "            else:\n",
        "                arr[k] = R[j]\n",
        "                j += 1\n",
        "            k += 1\n",
        "\n",
        "        while i < len(L):\n",
        "            arr[k] = L[i]\n",
        "            i += 1\n",
        "            k += 1\n",
        "        while j < len(R):\n",
        "            arr[k] = R[j]\n",
        "            j += 1\n",
        "            k += 1\n",
        "    return arr\n",
        "\n",
        "# 🔍 Test\n",
        "arr = [38, 27, 43, 3, 9, 82, 10]\n",
        "print(\"Original:\", arr)\n",
        "print(\"Quick Sort:\", quick_sort(arr.copy()))\n",
        "print(\"Merge Sort:\", merge_sort(arr.copy()))\n"
      ],
      "metadata": {
        "id": "OhYpD4HKYcV7",
        "outputId": "2f48bb1e-f1dd-41a8-91cb-ff10f28d3314",
        "colab": {
          "base_uri": "https://localhost:8080/"
        }
      },
      "execution_count": 1,
      "outputs": [
        {
          "output_type": "stream",
          "name": "stdout",
          "text": [
            "Original: [38, 27, 43, 3, 9, 82, 10]\n",
            "Quick Sort: [3, 9, 10, 27, 38, 43, 82]\n",
            "Merge Sort: [3, 9, 10, 27, 38, 43, 82]\n"
          ]
        }
      ]
    },
    {
      "cell_type": "markdown",
      "source": [
        "## C"
      ],
      "metadata": {
        "id": "wzun50HjY5PG"
      }
    },
    {
      "cell_type": "code",
      "source": [
        "c_code = \"\"\"\n",
        "#include <stdio.h>\n",
        "\n",
        "void swap(int *a, int *b) {\n",
        "    int t = *a;\n",
        "    *a = *b;\n",
        "    *b = t;\n",
        "}\n",
        "\n",
        "int partition(int arr[], int low, int high) {\n",
        "    int pivot = arr[high];\n",
        "    int i = (low - 1);\n",
        "\n",
        "    for (int j = low; j < high; j++) {\n",
        "        if (arr[j] <= pivot) {\n",
        "            i++;\n",
        "            swap(&arr[i], &arr[j]);\n",
        "        }\n",
        "    }\n",
        "    swap(&arr[i + 1], &arr[high]);\n",
        "    return (i + 1);\n",
        "}\n",
        "\n",
        "void quick_sort(int arr[], int low, int high) {\n",
        "    if (low < high) {\n",
        "        int pi = partition(arr, low, high);\n",
        "        quick_sort(arr, low, pi - 1);\n",
        "        quick_sort(arr, pi + 1, high);\n",
        "    }\n",
        "}\n",
        "\n",
        "void merge(int arr[], int l, int m, int r) {\n",
        "    int n1 = m - l + 1;\n",
        "    int n2 = r - m;\n",
        "\n",
        "    int L[n1], R[n2];\n",
        "    for (int i = 0; i < n1; i++) L[i] = arr[l + i];\n",
        "    for (int j = 0; j < n2; j++) R[j] = arr[m + 1 + j];\n",
        "\n",
        "    int i = 0, j = 0, k = l;\n",
        "    while (i < n1 && j < n2) {\n",
        "        if (L[i] <= R[j]) arr[k++] = L[i++];\n",
        "        else arr[k++] = R[j++];\n",
        "    }\n",
        "    while (i < n1) arr[k++] = L[i++];\n",
        "    while (j < n2) arr[k++] = R[j++];\n",
        "}\n",
        "\n",
        "void merge_sort(int arr[], int l, int r) {\n",
        "    if (l < r) {\n",
        "        int m = l + (r - l) / 2;\n",
        "        merge_sort(arr, l, m);\n",
        "        merge_sort(arr, m + 1, r);\n",
        "        merge(arr, l, m, r);\n",
        "    }\n",
        "}\n",
        "\n",
        "void print_array(int arr[], int n) {\n",
        "    for (int i = 0; i < n; i++) printf(\"%d \", arr[i]);\n",
        "    printf(\"\\\\n\");\n",
        "}\n",
        "\n",
        "int main() {\n",
        "    int arr[] = {38, 27, 43, 3, 9, 82, 10};\n",
        "    int n = sizeof(arr) / sizeof(arr[0]);\n",
        "\n",
        "    int arr1[7], arr2[7];\n",
        "    for (int i = 0; i < n; i++) { arr1[i]=arr[i]; arr2[i]=arr[i]; }\n",
        "\n",
        "    printf(\"Original: \"); print_array(arr, n);\n",
        "\n",
        "    quick_sort(arr1, 0, n-1);\n",
        "    printf(\"Quick Sort: \"); print_array(arr1, n);\n",
        "\n",
        "    merge_sort(arr2, 0, n-1);\n",
        "    printf(\"Merge Sort: \"); print_array(arr2, n);\n",
        "\n",
        "    return 0;\n",
        "}\n",
        "\"\"\"\n",
        "\n",
        "with open(\"lesson22.c\", \"w\") as f:\n",
        "    f.write(c_code)\n",
        "\n",
        "!gcc lesson22.c -o lesson22_c && ./lesson22_c\n"
      ],
      "metadata": {
        "id": "saLOAg7AYhCQ",
        "outputId": "14974a7f-a65f-494c-d4f1-4f3e049acc44",
        "colab": {
          "base_uri": "https://localhost:8080/"
        }
      },
      "execution_count": 2,
      "outputs": [
        {
          "output_type": "stream",
          "name": "stdout",
          "text": [
            "Original: 38 27 43 3 9 82 10 \n",
            "Quick Sort: 3 9 10 27 38 43 82 \n",
            "Merge Sort: 3 9 10 27 38 43 82 \n"
          ]
        }
      ]
    },
    {
      "cell_type": "markdown",
      "source": [
        "## C++"
      ],
      "metadata": {
        "id": "TSv1qxCkY2BO"
      }
    },
    {
      "cell_type": "code",
      "source": [
        "cpp_code = \"\"\"\n",
        "#include <iostream>\n",
        "using namespace std;\n",
        "\n",
        "void swap(int &a, int &b) {\n",
        "    int t = a; a = b; b = t;\n",
        "}\n",
        "\n",
        "int partition(int arr[], int low, int high) {\n",
        "    int pivot = arr[high];\n",
        "    int i = low - 1;\n",
        "    for (int j = low; j < high; j++) {\n",
        "        if (arr[j] <= pivot) {\n",
        "            i++;\n",
        "            swap(arr[i], arr[j]);\n",
        "        }\n",
        "    }\n",
        "    swap(arr[i+1], arr[high]);\n",
        "    return (i+1);\n",
        "}\n",
        "\n",
        "void quick_sort(int arr[], int low, int high) {\n",
        "    if (low < high) {\n",
        "        int pi = partition(arr, low, high);\n",
        "        quick_sort(arr, low, pi-1);\n",
        "        quick_sort(arr, pi+1, high);\n",
        "    }\n",
        "}\n",
        "\n",
        "void merge(int arr[], int l, int m, int r) {\n",
        "    int n1 = m - l + 1;\n",
        "    int n2 = r - m;\n",
        "\n",
        "    int L[n1], R[n2];\n",
        "    for (int i = 0; i < n1; i++) L[i] = arr[l+i];\n",
        "    for (int j = 0; j < n2; j++) R[j] = arr[m+1+j];\n",
        "\n",
        "    int i=0, j=0, k=l;\n",
        "    while (i<n1 && j<n2) {\n",
        "        if (L[i] <= R[j]) arr[k++] = L[i++];\n",
        "        else arr[k++] = R[j++];\n",
        "    }\n",
        "    while (i<n1) arr[k++] = L[i++];\n",
        "    while (j<n2) arr[k++] = R[j++];\n",
        "}\n",
        "\n",
        "void merge_sort(int arr[], int l, int r) {\n",
        "    if (l < r) {\n",
        "        int m = l + (r-l)/2;\n",
        "        merge_sort(arr, l, m);\n",
        "        merge_sort(arr, m+1, r);\n",
        "        merge(arr, l, m, r);\n",
        "    }\n",
        "}\n",
        "\n",
        "void print_array(int arr[], int n) {\n",
        "    for (int i=0; i<n; i++) cout << arr[i] << \" \";\n",
        "    cout << endl;\n",
        "}\n",
        "\n",
        "int main() {\n",
        "    int arr[] = {38, 27, 43, 3, 9, 82, 10};\n",
        "    int n = sizeof(arr) / sizeof(arr[0]);\n",
        "\n",
        "    int arr1[7], arr2[7];\n",
        "    for (int i=0; i<n; i++){ arr1[i]=arr[i]; arr2[i]=arr[i]; }\n",
        "\n",
        "    cout << \"Original: \"; print_array(arr, n);\n",
        "\n",
        "    quick_sort(arr1, 0, n-1);\n",
        "    cout << \"Quick Sort: \"; print_array(arr1, n);\n",
        "\n",
        "    merge_sort(arr2, 0, n-1);\n",
        "    cout << \"Merge Sort: \"; print_array(arr2, n);\n",
        "\n",
        "    return 0;\n",
        "}\n",
        "\"\"\"\n",
        "\n",
        "with open(\"lesson22.cpp\", \"w\") as f:\n",
        "    f.write(cpp_code)\n",
        "\n",
        "!g++ lesson22.cpp -o lesson22_cpp && ./lesson22_cpp\n"
      ],
      "metadata": {
        "id": "qoPuIND2YjJB",
        "outputId": "4ab212de-5cf8-41af-a40f-b653a209ac8e",
        "colab": {
          "base_uri": "https://localhost:8080/"
        }
      },
      "execution_count": 3,
      "outputs": [
        {
          "output_type": "stream",
          "name": "stdout",
          "text": [
            "Original: 38 27 43 3 9 82 10 \n",
            "Quick Sort: 3 9 10 27 38 43 82 \n",
            "Merge Sort: 3 9 10 27 38 43 82 \n"
          ]
        }
      ]
    },
    {
      "cell_type": "markdown",
      "source": [
        "## JAVA"
      ],
      "metadata": {
        "id": "jji0AzmrYznN"
      }
    },
    {
      "cell_type": "code",
      "source": [
        "java_code = \"\"\"\n",
        "public class Lesson22Sorts {\n",
        "\n",
        "    static void quickSort(int arr[], int low, int high) {\n",
        "        if (low < high) {\n",
        "            int pi = partition(arr, low, high);\n",
        "            quickSort(arr, low, pi-1);\n",
        "            quickSort(arr, pi+1, high);\n",
        "        }\n",
        "    }\n",
        "\n",
        "    static int partition(int arr[], int low, int high) {\n",
        "        int pivot = arr[high];\n",
        "        int i = (low-1);\n",
        "        for (int j=low; j<high; j++) {\n",
        "            if (arr[j] <= pivot) {\n",
        "                i++;\n",
        "                int temp = arr[i];\n",
        "                arr[i] = arr[j];\n",
        "                arr[j] = temp;\n",
        "            }\n",
        "        }\n",
        "        int temp = arr[i+1];\n",
        "        arr[i+1] = arr[high];\n",
        "        arr[high] = temp;\n",
        "        return i+1;\n",
        "    }\n",
        "\n",
        "    static void mergeSort(int arr[], int l, int r) {\n",
        "        if (l < r) {\n",
        "            int m = l+(r-l)/2;\n",
        "            mergeSort(arr, l, m);\n",
        "            mergeSort(arr, m+1, r);\n",
        "            merge(arr, l, m, r);\n",
        "        }\n",
        "    }\n",
        "\n",
        "    static void merge(int arr[], int l, int m, int r) {\n",
        "        int n1 = m-l+1, n2 = r-m;\n",
        "        int L[] = new int[n1];\n",
        "        int R[] = new int[n2];\n",
        "\n",
        "        for (int i=0; i<n1; i++) L[i] = arr[l+i];\n",
        "        for (int j=0; j<n2; j++) R[j] = arr[m+1+j];\n",
        "\n",
        "        int i=0, j=0, k=l;\n",
        "        while (i<n1 && j<n2) {\n",
        "            if (L[i] <= R[j]) arr[k++] = L[i++];\n",
        "            else arr[k++] = R[j++];\n",
        "        }\n",
        "        while (i<n1) arr[k++] = L[i++];\n",
        "        while (j<n2) arr[k++] = R[j++];\n",
        "    }\n",
        "\n",
        "    static void printArray(int arr[]) {\n",
        "        for (int i=0; i<arr.length; i++)\n",
        "            System.out.print(arr[i]+\" \");\n",
        "        System.out.println();\n",
        "    }\n",
        "\n",
        "    public static void main(String[] args) {\n",
        "        int arr[] = {38, 27, 43, 3, 9, 82, 10};\n",
        "\n",
        "        int arr1[] = arr.clone();\n",
        "        int arr2[] = arr.clone();\n",
        "\n",
        "        System.out.print(\"Original: \"); printArray(arr);\n",
        "\n",
        "        quickSort(arr1, 0, arr1.length-1);\n",
        "        System.out.print(\"Quick Sort: \"); printArray(arr1);\n",
        "\n",
        "        mergeSort(arr2, 0, arr2.length-1);\n",
        "        System.out.print(\"Merge Sort: \"); printArray(arr2);\n",
        "    }\n",
        "}\n",
        "\"\"\"\n",
        "\n",
        "with open(\"Lesson22Sorts.java\", \"w\") as f:\n",
        "    f.write(java_code)\n",
        "\n",
        "!javac Lesson22Sorts.java\n",
        "!java Lesson22Sorts\n"
      ],
      "metadata": {
        "id": "Zn9IsLCIYm_P",
        "outputId": "c55dd1fc-c862-4149-c4ab-922398b0a5cb",
        "colab": {
          "base_uri": "https://localhost:8080/"
        }
      },
      "execution_count": 4,
      "outputs": [
        {
          "output_type": "stream",
          "name": "stdout",
          "text": [
            "Original: 38 27 43 3 9 82 10 \n",
            "Quick Sort: 3 9 10 27 38 43 82 \n",
            "Merge Sort: 3 9 10 27 38 43 82 \n"
          ]
        }
      ]
    },
    {
      "cell_type": "markdown",
      "source": [
        "---\n",
        "\n",
        "## 📌 Summary – Lesson 22: Quick Sort & Merge Sort\n",
        "\n",
        "- **Quick Sort**\n",
        "  - Uses partitioning around a pivot.\n",
        "  - Average: O(n log n), Worst: O(n²).\n",
        "  - In-place, but not stable.\n",
        "\n",
        "- **Merge Sort**\n",
        "  - Uses divide-and-conquer with merging.\n",
        "  - Always O(n log n).\n",
        "  - Stable but requires O(n) extra memory.\n",
        "\n",
        "---\n",
        "\n",
        "## ✅ Viva Questions:\n",
        "1. Why is Quick Sort faster than Merge Sort in practice?\n",
        "2. When does Quick Sort reach O(n²)?\n",
        "3. Why is Merge Sort considered stable?\n",
        "4. Which is preferred in linked lists – Merge or Quick Sort?\n",
        "\n",
        "---\n"
      ],
      "metadata": {
        "id": "JsrBprVFYtaM"
      }
    }
  ]
}