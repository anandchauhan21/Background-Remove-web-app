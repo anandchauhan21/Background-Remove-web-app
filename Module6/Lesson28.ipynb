{
  "nbformat": 4,
  "nbformat_minor": 0,
  "metadata": {
    "colab": {
      "provenance": [],
      "name": "Lesson28.ipynb",
      "include_colab_link": true
    },
    "kernelspec": {
      "name": "python3",
      "display_name": "Python 3"
    },
    "language_info": {
      "name": "python"
    }
  },
  "cells": [
    {
      "cell_type": "markdown",
      "metadata": {
        "id": "view-in-github",
        "colab_type": "text"
      },
      "source": [
        "<a href=\"https://colab.research.google.com/github/anandchauhan21/Background-Remove-web-app/blob/main/Module6/Lesson28.ipynb\" target=\"_parent\"><img src=\"https://colab.research.google.com/assets/colab-badge.svg\" alt=\"Open In Colab\"/></a>"
      ]
    },
    {
      "cell_type": "markdown",
      "source": [
        "# 🌳 Lesson 28: AVL Trees & Red-Black Trees\n",
        "\n",
        "## 🎯 Objective:\n",
        "Understand **balanced binary search trees** –  \n",
        "how **AVL Trees** and **Red-Black Trees** maintain balance during operations.\n",
        "\n",
        "---\n",
        "\n",
        "## ⚖️ AVL Trees\n",
        "- Named after Adelson-Velsky and Landis (1962).  \n",
        "- **Height-balanced BST**:  \n",
        "  - For every node: |height(left) – height(right)| ≤ 1  \n",
        "- Operations: Insertion, Deletion with **rotations**  \n",
        "  - **LL Rotation** (Right Rotation)  \n",
        "  - **RR Rotation** (Left Rotation)  \n",
        "  - **LR Rotation** (Left-Right)  \n",
        "  - **RL Rotation** (Right-Left)\n",
        "\n",
        "---\n",
        "\n",
        "## 🟥⚫ Red-Black Trees\n",
        "- A **self-balancing BST** with extra property:  \n",
        "  - Each node is either **Red** or **Black**  \n",
        "  - Root is always Black  \n",
        "  - No two consecutive Reds  \n",
        "  - Every path from root → leaf has same # of Black nodes  \n",
        "\n",
        "- Balancing via **color flips** & **rotations**.  \n",
        "- Widely used in **OS kernels, Maps, Sets, STL, Java TreeMap**.\n",
        "\n",
        "---\n",
        "\n",
        "## 🌳 Example: AVL Tree Balancing\n",
        "\n",
        "Insert sequence: [10, 20, 30]  \n",
        "- BST becomes skewed → Rotation applied  \n",
        "- Balanced AVL after **LL Rotation**:\n"
      ],
      "metadata": {
        "id": "coZpi140ssye"
      }
    },
    {
      "cell_type": "code",
      "source": [
        "def ascii_avl_rotation():\n",
        "    print(\"Before LL Rotation (Unbalanced):\")\n",
        "    print(\"\"\"\n",
        "        10\n",
        "          \\\\\n",
        "           20\n",
        "             \\\\\n",
        "              30\n",
        "    \"\"\")\n",
        "    print(\"After LL Rotation (Balanced):\")\n",
        "    print(\"\"\"\n",
        "          20\n",
        "         /  \\\\\n",
        "       10    30\n",
        "    \"\"\")\n",
        "ascii_avl_rotation()\n"
      ],
      "metadata": {
        "id": "MIcUTL_osuSA",
        "outputId": "858c2b1c-9363-4865-b726-bb9f8981af4d",
        "colab": {
          "base_uri": "https://localhost:8080/"
        }
      },
      "execution_count": 25,
      "outputs": [
        {
          "output_type": "stream",
          "name": "stdout",
          "text": [
            "Before LL Rotation (Unbalanced):\n",
            "\n",
            "        10\n",
            "          \\\n",
            "           20\n",
            "             \\\n",
            "              30\n",
            "    \n",
            "After LL Rotation (Balanced):\n",
            "\n",
            "          20\n",
            "         /  \\\n",
            "       10    30\n",
            "    \n"
          ]
        }
      ]
    },
    {
      "cell_type": "code",
      "source": [
        "import matplotlib.pyplot as plt\n",
        "import networkx as nx\n",
        "\n",
        "edges_unbalanced=[(\"10\",\"20\"),(\"20\",\"30\")]\n",
        "edges_balanced=[(\"20\",\"10\"),(\"20\",\"30\")]\n",
        "\n",
        "def draw_tree(edges,title):\n",
        "    G=nx.DiGraph()\n",
        "    G.add_edges_from(edges)\n",
        "    pos=nx.spring_layout(G,seed=42)\n",
        "    plt.figure(figsize=(5,4))\n",
        "    nx.draw(G,pos,with_labels=True,node_size=2000,node_color=\"lightblue\",font_size=14,font_weight=\"bold\")\n",
        "    plt.title(title,fontsize=14)\n",
        "    plt.show()\n",
        "\n",
        "draw_tree(edges_unbalanced,\"AVL Before LL Rotation (Unbalanced)\")\n",
        "draw_tree(edges_balanced,\"AVL After LL Rotation (Balanced)\")\n"
      ],
      "metadata": {
        "id": "279Yn352s35I",
        "outputId": "762c9ce8-24c0-4b9f-a2bb-2c6b52ebb0ea",
        "colab": {
          "base_uri": "https://localhost:8080/",
          "height": 903
        }
      },
      "execution_count": 26,
      "outputs": [
        {
          "output_type": "display_data",
          "data": {
            "text/plain": [
              "<Figure size 500x400 with 1 Axes>"
            ],
            "image/png": "[encoded data removed]"
          },
          "metadata": {}
        },
        {
          "output_type": "display_data",
          "data": {
            "text/plain": [
              "<Figure size 500x400 with 1 Axes>"
            ],
            "image/png": "[encoded data removed]"
          },
          "metadata": {}
        }
      ]
    },
    {
      "cell_type": "markdown",
      "source": [
        "## Python"
      ],
      "metadata": {
        "id": "tVY7n7Lts_1I"
      }
    },
    {
      "cell_type": "code",
      "source": [
        "# ⚖️ AVL Tree in Python\n",
        "\n",
        "class Node:\n",
        "    def __init__(self,key):\n",
        "        self.key=key\n",
        "        self.left=None\n",
        "        self.right=None\n",
        "        self.height=1\n",
        "\n",
        "def height(root):\n",
        "    return root.height if root else 0\n",
        "\n",
        "def getBalance(root):\n",
        "    return height(root.left)-height(root.right) if root else 0\n",
        "\n",
        "def rightRotate(y):\n",
        "    x=y.left\n",
        "    T2=x.right\n",
        "    x.right=y\n",
        "    y.left=T2\n",
        "    y.height=1+max(height(y.left),height(y.right))\n",
        "    x.height=1+max(height(x.left),height(x.right))\n",
        "    return x\n",
        "\n",
        "def leftRotate(x):\n",
        "    y=x.right\n",
        "    T2=y.left\n",
        "    y.left=x\n",
        "    x.right=T2\n",
        "    x.height=1+max(height(x.left),height(x.right))\n",
        "    y.height=1+max(height(y.left),height(y.right))\n",
        "    return y\n",
        "\n",
        "def insert(root,key):\n",
        "    if not root: return Node(key)\n",
        "    if key<root.key: root.left=insert(root.left,key)\n",
        "    elif key>root.key: root.right=insert(root.right,key)\n",
        "    else: return root\n",
        "\n",
        "    root.height=1+max(height(root.left),height(root.right))\n",
        "    balance=getBalance(root)\n",
        "\n",
        "    if balance>1 and key<root.left.key: return rightRotate(root)\n",
        "    if balance<-1 and key>root.right.key: return leftRotate(root)\n",
        "    if balance>1 and key>root.left.key:\n",
        "        root.left=leftRotate(root.left); return rightRotate(root)\n",
        "    if balance<-1 and key<root.right.key:\n",
        "        root.right=rightRotate(root.right); return leftRotate(root)\n",
        "\n",
        "    return root\n",
        "\n",
        "def inorder(root):\n",
        "    if root: inorder(root.left); print(root.key,end=\" \"); inorder(root.right)\n",
        "\n",
        "# 🔍 Test\n",
        "root=None\n",
        "for val in [10,20,30,40,50,25]:\n",
        "    root=insert(root,val)\n",
        "\n",
        "print(\"AVL Inorder Traversal (Balanced):\",end=\" \")\n",
        "inorder(root); print()\n"
      ],
      "metadata": {
        "id": "ZcSBLF1Ks901",
        "outputId": "b24a8541-5e24-4ace-b49f-f8d939f790cc",
        "colab": {
          "base_uri": "https://localhost:8080/"
        }
      },
      "execution_count": 27,
      "outputs": [
        {
          "output_type": "stream",
          "name": "stdout",
          "text": [
            "AVL Inorder Traversal (Balanced): 10 20 25 30 40 50 \n"
          ]
        }
      ]
    },
    {
      "cell_type": "markdown",
      "source": [
        "## C++"
      ],
      "metadata": {
        "id": "JIDpJo4jtEMo"
      }
    },
    {
      "cell_type": "code",
      "source": [
        "cpp_code = \"\"\"\n",
        "#include <iostream>\n",
        "using namespace std;\n",
        "\n",
        "struct Node{\n",
        "    int key,height;\n",
        "    Node* left; Node* right;\n",
        "    Node(int val){ key=val; height=1; left=right=NULL; }\n",
        "};\n",
        "\n",
        "int height(Node* n){ return n? n->height:0; }\n",
        "int getBalance(Node* n){ return n? height(n->left)-height(n->right):0; }\n",
        "\n",
        "Node* rightRotate(Node* y){\n",
        "    Node* x=y->left; Node* T2=x->right;\n",
        "    x->right=y; y->left=T2;\n",
        "    y->height=1+max(height(y->left),height(y->right));\n",
        "    x->height=1+max(height(x->left),height(x->right));\n",
        "    return x;\n",
        "}\n",
        "\n",
        "Node* leftRotate(Node* x){\n",
        "    Node* y=x->right; Node* T2=y->left;\n",
        "    y->left=x; x->right=T2;\n",
        "    x->height=1+max(height(x->left),height(x->right));\n",
        "    y->height=1+max(height(y->left),height(y->right));\n",
        "    return y;\n",
        "}\n",
        "\n",
        "Node* insert(Node* node,int key){\n",
        "    if(!node) return new Node(key);\n",
        "    if(key<node->key) node->left=insert(node->left,key);\n",
        "    else if(key>node->key) node->right=insert(node->right,key);\n",
        "    else return node;\n",
        "    node->height=1+max(height(node->left),height(node->right));\n",
        "    int balance=getBalance(node);\n",
        "    if(balance>1 && key<node->left->key) return rightRotate(node);\n",
        "    if(balance<-1 && key>node->right->key) return leftRotate(node);\n",
        "    if(balance>1 && key>node->left->key){ node->left=leftRotate(node->left); return rightRotate(node); }\n",
        "    if(balance<-1 && key<node->right->key){ node->right=rightRotate(node->right); return leftRotate(node); }\n",
        "    return node;\n",
        "}\n",
        "\n",
        "void inorder(Node* root){\n",
        "    if(root){ inorder(root->left); cout<<root->key<<\" \"; inorder(root->right); }\n",
        "}\n",
        "\n",
        "int main(){\n",
        "    Node* root=NULL;\n",
        "    int vals[]={10,20,30,40,50,25};\n",
        "    for(int v:vals) root=insert(root,v);\n",
        "    cout<<\"AVL Inorder Traversal: \"; inorder(root); cout<<endl;\n",
        "}\n",
        "\"\"\"\n",
        "with open(\"lesson28.cpp\",\"w\") as f: f.write(cpp_code)\n",
        "!g++ lesson28.cpp -o lesson28_cpp && ./lesson28_cpp\n"
      ],
      "metadata": {
        "id": "flNDq5b2tF_E",
        "outputId": "64870f1a-be9d-4e8d-e108-42401c6bdc76",
        "colab": {
          "base_uri": "https://localhost:8080/"
        }
      },
      "execution_count": 28,
      "outputs": [
        {
          "output_type": "stream",
          "name": "stdout",
          "text": [
            "AVL Inorder Traversal: 10 20 25 30 40 50 \n"
          ]
        }
      ]
    },
    {
      "cell_type": "markdown",
      "source": [
        "## JAVA"
      ],
      "metadata": {
        "id": "b2UQSRLttJKO"
      }
    },
    {
      "cell_type": "code",
      "source": [
        "java_code = \"\"\"\n",
        "class Node{\n",
        "    int key,height;\n",
        "    Node left,right;\n",
        "    Node(int d){ key=d; height=1; }\n",
        "}\n",
        "public class Lesson28 {\n",
        "    static int height(Node N){ return (N==null)?0:N.height; }\n",
        "    static int getBalance(Node N){ return (N==null)?0:height(N.left)-height(N.right); }\n",
        "\n",
        "    static Node rightRotate(Node y){\n",
        "        Node x=y.left; Node T2=x.right;\n",
        "        x.right=y; y.left=T2;\n",
        "        y.height=Math.max(height(y.left),height(y.right))+1;\n",
        "        x.height=Math.max(height(x.left),height(x.right))+1;\n",
        "        return x;\n",
        "    }\n",
        "    static Node leftRotate(Node x){\n",
        "        Node y=x.right; Node T2=y.left;\n",
        "        y.left=x; x.right=T2;\n",
        "        x.height=Math.max(height(x.left),height(x.right))+1;\n",
        "        y.height=Math.max(height(y.left),height(y.right))+1;\n",
        "        return y;\n",
        "    }\n",
        "    static Node insert(Node node,int key){\n",
        "        if(node==null) return new Node(key);\n",
        "        if(key<node.key) node.left=insert(node.left,key);\n",
        "        else if(key>node.key) node.right=insert(node.right,key);\n",
        "        else return node;\n",
        "        node.height=1+Math.max(height(node.left),height(node.right));\n",
        "        int balance=getBalance(node);\n",
        "        if(balance>1 && key<node.left.key) return rightRotate(node);\n",
        "        if(balance<-1 && key>node.right.key) return leftRotate(node);\n",
        "        if(balance>1 && key>node.left.key){ node.left=leftRotate(node.left); return rightRotate(node); }\n",
        "        if(balance<-1 && key<node.right.key){ node.right=rightRotate(node.right); return leftRotate(node); }\n",
        "        return node;\n",
        "    }\n",
        "    static void inorder(Node root){\n",
        "        if(root!=null){ inorder(root.left); System.out.print(root.key+\" \"); inorder(root.right); }\n",
        "    }\n",
        "    public static void main(String[] args){\n",
        "        Node root=null;\n",
        "        int vals[]={10,20,30,40,50,25};\n",
        "        for(int v:vals) root=insert(root,v);\n",
        "        System.out.print(\"AVL Inorder Traversal: \"); inorder(root); System.out.println();\n",
        "    }\n",
        "}\n",
        "\"\"\"\n",
        "with open(\"Lesson28.java\",\"w\") as f: f.write(java_code)\n",
        "!javac Lesson28.java\n",
        "!java Lesson28\n"
      ],
      "metadata": {
        "id": "0PhriY3StKzj",
        "outputId": "f2536892-89e8-40a1-c6e2-1a29c5b90610",
        "colab": {
          "base_uri": "https://localhost:8080/"
        }
      },
      "execution_count": 29,
      "outputs": [
        {
          "output_type": "stream",
          "name": "stdout",
          "text": [
            "AVL Inorder Traversal: 10 20 25 30 40 50 \n"
          ]
        }
      ]
    },
    {
      "cell_type": "markdown",
      "source": [
        "## Red-Black Tree (Python Conceptual Example)"
      ],
      "metadata": {
        "id": "fwwZbmRltVSA"
      }
    },
    {
      "cell_type": "code",
      "source": [
        "# Simplified Red-Black Tree Node\n",
        "class RBNode:\n",
        "    def __init__(self,key,color=\"RED\"):\n",
        "        self.key=key\n",
        "        self.color=color\n",
        "        self.left=None\n",
        "        self.right=None\n",
        "        self.parent=None\n",
        "\n",
        "# For simplicity, we won’t implement full balancing here (very complex).\n",
        "# Just demonstrate insertion and color property.\n",
        "root=RBNode(10,\"BLACK\")\n",
        "root.left=RBNode(5,\"RED\"); root.right=RBNode(20,\"RED\")\n",
        "print(\"RB Tree Structure (Key:Color):\")\n",
        "print(f\"Root: {root.key}({root.color})\")\n",
        "print(f\" Left: {root.left.key}({root.left.color})\")\n",
        "print(f\" Right: {root.right.key}({root.right.color})\")\n"
      ],
      "metadata": {
        "id": "XBcZ2VaptN-V",
        "outputId": "41021358-73b8-4402-d51c-4482b64c55a7",
        "colab": {
          "base_uri": "https://localhost:8080/"
        }
      },
      "execution_count": 30,
      "outputs": [
        {
          "output_type": "stream",
          "name": "stdout",
          "text": [
            "RB Tree Structure (Key:Color):\n",
            "Root: 10(BLACK)\n",
            " Left: 5(RED)\n",
            " Right: 20(RED)\n"
          ]
        }
      ]
    },
    {
      "cell_type": "markdown",
      "source": [
        "---\n",
        "\n",
        "## 📌 Summary – Lesson 28\n",
        "- **AVL Tree**: Strictly balanced BST (balance factor -1,0,+1).  \n",
        "  - Uses rotations (LL, RR, LR, RL).  \n",
        "  - Faster lookups, slightly expensive inserts/deletes.  \n",
        "- **Red-Black Tree**: Loosely balanced BST.  \n",
        "  - Balances using **colors + rotations**.  \n",
        "  - Widely used in libraries (C++ STL, Java TreeMap).  \n",
        "\n",
        "---\n",
        "\n",
        "## ✅ Viva Questions:\n",
        "1. What is the balance factor in AVL trees?  \n",
        "2. Name the 4 types of rotations in AVL trees.  \n",
        "3. Why is a Red-Black Tree used in STL Maps instead of AVL?  \n",
        "4. Compare AVL vs Red-Black Trees in terms of **search, insert, delete**.  \n",
        "5. What is the maximum height difference between subtrees in a Red-Black Tree?  \n",
        "\n",
        "---\n"
      ],
      "metadata": {
        "id": "ne_DGCEltaUT"
      }
    }
  ]
}